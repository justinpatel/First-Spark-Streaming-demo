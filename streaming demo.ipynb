{
 "cells": [
  {
   "cell_type": "code",
   "execution_count": 1,
   "id": "620aba02",
   "metadata": {},
   "outputs": [],
   "source": [
    "path = './sales_log/'"
   ]
  },
  {
   "cell_type": "markdown",
   "id": "65aacc5b",
   "metadata": {},
   "source": [
    "Create a Schema"
   ]
  },
  {
   "cell_type": "code",
   "execution_count": 2,
   "id": "9f68e1ba",
   "metadata": {},
   "outputs": [],
   "source": [
    "from pyspark.sql.types import *\n",
    "\n",
    "salesSchema = StructType([\n",
    "    StructField(\"OrderID\", DoubleType(), True),\n",
    "    StructField(\"OrderDate\", StringType(), True),\n",
    "    StructField(\"Quantity\", DoubleType(), True),\n",
    "    StructField(\"DiscountPct\", DoubleType(), True),\n",
    "    StructField(\"Rate\", DoubleType(), True),\n",
    "    StructField(\"SaleAmount\", DoubleType(), True),\n",
    "    StructField(\"CustomerName\", StringType(), True),\n",
    "    StructField(\"State\", StringType(), True),\n",
    "    StructField(\"Region\", StringType(), True),\n",
    "    StructField(\"ProductKey\", StringType(), True),\n",
    "    StructField(\"RowCount\", DoubleType(), True),\n",
    "    StructField(\"ProfitMargin\", DoubleType(), True)\n",
    "]) "
   ]
  },
  {
   "cell_type": "code",
   "execution_count": 3,
   "id": "bb553e5d",
   "metadata": {},
   "outputs": [],
   "source": [
    "data = (\n",
    "    spark\n",
    "        .read\n",
    "        .schema(salesSchema)\n",
    "        .csv(path)\n",
    ")"
   ]
  },
  {
   "cell_type": "code",
   "execution_count": 5,
   "id": "7d2fbf1a",
   "metadata": {},
   "outputs": [
    {
     "name": "stdout",
     "output_type": "stream",
     "text": [
      "+-------+---------+--------+-----------+-----+----------+------------------+-----------+-------+--------------------+--------+------------+\n",
      "|OrderID|OrderDate|Quantity|DiscountPct| Rate|SaleAmount|      CustomerName|      State| Region|          ProductKey|RowCount|ProfitMargin|\n",
      "+-------+---------+--------+-----------+-----+----------+------------------+-----------+-------+--------------------+--------+------------+\n",
      "|44935.0| 11/17/10|    37.0|       0.06|200.0|    7011.4|     Arthur Nelson| New Mexico|   West| Development - Scala|     1.0|        0.65|\n",
      "|44935.0| 11/17/10|    37.0|       0.01|140.0|   5169.04|     Arthur Nelson|    Florida|  South|Development - Dat...|     1.0|        0.64|\n",
      "| 2563.0| 11/18/10|    12.0|       0.04|200.0|   2322.41| Brenda Hildebrand|Mississippi|  South| Development - Scala|     1.0|        0.74|\n",
      "| 2563.0| 11/18/10|    33.0|       0.01|120.0|   3951.72| Brenda Hildebrand|Mississippi|  South|Development - Bus...|     1.0|        0.44|\n",
      "| 2752.0| 11/18/10|    30.0|       0.03|150.0|   4399.87|     Todd Cacioppo|  Wisconsin|Central|Consulting - Busi...|     1.0|        0.53|\n",
      "| 2752.0| 11/18/10|    41.0|       0.02|140.0|   5670.14|     Todd Cacioppo|  Wisconsin|Central|Development - Dat...|     1.0|        0.56|\n",
      "| 2752.0| 11/18/10|    10.0|       0.03|200.0|    1955.5|     Todd Cacioppo|  Wisconsin|Central|Development - Big...|     1.0|        0.69|\n",
      "| 2752.0| 11/18/10|    10.0|       0.04|150.0|    1451.5|     Todd Cacioppo|  Wisconsin|Central|Consulting - Mark...|     1.0|         0.7|\n",
      "|13607.0| 11/18/10|    12.0|       0.07|150.0|   1687.37|     Matthew Lucas| New Mexico|   West|Consulting - Busi...|     1.0|        0.59|\n",
      "|13607.0| 11/18/10|    37.0|       0.09|200.0|    6787.8|     Matthew Lucas| New Mexico|   West| Development - Scala|     1.0|        0.74|\n",
      "|13607.0| 11/18/10|    13.0|        0.0|200.0|   2620.77|     Matthew Lucas| New Mexico|   West|Development - Big...|     1.0|        0.72|\n",
      "|22887.0| 11/18/10|    34.0|       0.07|125.0|   3984.08|     Eugene Liston|   Kentucky|  South|Training - Develo...|     1.0|        0.54|\n",
      "|34658.0| 11/18/10|    33.0|       0.05|125.0|   3950.06|         Alan Daly|      Texas|Central|  Training - Tableau|     1.0|        0.58|\n",
      "| 8001.0| 11/19/10|    15.0|        0.1|110.0|    1496.9|    Charles Sunley| California|   West|Development - Python|     1.0|        0.38|\n",
      "| 8001.0| 11/19/10|    47.0|       0.01|200.0|   9380.58|    Charles Sunley| California|   West|Development - Big...|     1.0|        0.74|\n",
      "|23366.0| 11/19/10|    12.0|       0.06|125.0|    1421.3|      Tim Swindell| California|   West|      Training - SQL|     1.0|        0.43|\n",
      "|23366.0| 11/19/10|     5.0|       0.04|200.0|    967.69|      Tim Swindell| California|   West|Development - Big...|     1.0|        0.67|\n",
      "|45190.0| 11/19/10|    13.0|        0.0|125.0|   1638.02|     George Barnes|      Texas|Central|Training - Develo...|     1.0|        0.58|\n",
      "| 8582.0| 11/20/10|    15.0|       0.04|125.0|   1814.47|     David Glassco| California|   West|      Training - SQL|     1.0|         0.5|\n",
      "|13895.0| 11/20/10|    44.0|       0.02|200.0|   8693.33|Michelle Collister|  Wisconsin|Central|Development - Big...|     1.0|        0.65|\n",
      "+-------+---------+--------+-----------+-----+----------+------------------+-----------+-------+--------------------+--------+------------+\n",
      "only showing top 20 rows\n",
      "\n"
     ]
    }
   ],
   "source": [
    "data.show()"
   ]
  },
  {
   "cell_type": "code",
   "execution_count": 6,
   "id": "e73b4754",
   "metadata": {},
   "outputs": [],
   "source": [
    "data.createOrReplaceTempView(\"sales\")"
   ]
  },
  {
   "cell_type": "code",
   "execution_count": 8,
   "id": "feb933e9",
   "metadata": {},
   "outputs": [
    {
     "name": "stdout",
     "output_type": "stream",
     "text": [
      "+-------+---------+--------+-----------+-----+----------+------------------+-----------+-------+--------------------+--------+------------+\n",
      "|OrderID|OrderDate|Quantity|DiscountPct| Rate|SaleAmount|      CustomerName|      State| Region|          ProductKey|RowCount|ProfitMargin|\n",
      "+-------+---------+--------+-----------+-----+----------+------------------+-----------+-------+--------------------+--------+------------+\n",
      "|44935.0| 11/17/10|    37.0|       0.06|200.0|    7011.4|     Arthur Nelson| New Mexico|   West| Development - Scala|     1.0|        0.65|\n",
      "|44935.0| 11/17/10|    37.0|       0.01|140.0|   5169.04|     Arthur Nelson|    Florida|  South|Development - Dat...|     1.0|        0.64|\n",
      "| 2563.0| 11/18/10|    12.0|       0.04|200.0|   2322.41| Brenda Hildebrand|Mississippi|  South| Development - Scala|     1.0|        0.74|\n",
      "| 2563.0| 11/18/10|    33.0|       0.01|120.0|   3951.72| Brenda Hildebrand|Mississippi|  South|Development - Bus...|     1.0|        0.44|\n",
      "| 2752.0| 11/18/10|    30.0|       0.03|150.0|   4399.87|     Todd Cacioppo|  Wisconsin|Central|Consulting - Busi...|     1.0|        0.53|\n",
      "| 2752.0| 11/18/10|    41.0|       0.02|140.0|   5670.14|     Todd Cacioppo|  Wisconsin|Central|Development - Dat...|     1.0|        0.56|\n",
      "| 2752.0| 11/18/10|    10.0|       0.03|200.0|    1955.5|     Todd Cacioppo|  Wisconsin|Central|Development - Big...|     1.0|        0.69|\n",
      "| 2752.0| 11/18/10|    10.0|       0.04|150.0|    1451.5|     Todd Cacioppo|  Wisconsin|Central|Consulting - Mark...|     1.0|         0.7|\n",
      "|13607.0| 11/18/10|    12.0|       0.07|150.0|   1687.37|     Matthew Lucas| New Mexico|   West|Consulting - Busi...|     1.0|        0.59|\n",
      "|13607.0| 11/18/10|    37.0|       0.09|200.0|    6787.8|     Matthew Lucas| New Mexico|   West| Development - Scala|     1.0|        0.74|\n",
      "|13607.0| 11/18/10|    13.0|        0.0|200.0|   2620.77|     Matthew Lucas| New Mexico|   West|Development - Big...|     1.0|        0.72|\n",
      "|22887.0| 11/18/10|    34.0|       0.07|125.0|   3984.08|     Eugene Liston|   Kentucky|  South|Training - Develo...|     1.0|        0.54|\n",
      "|34658.0| 11/18/10|    33.0|       0.05|125.0|   3950.06|         Alan Daly|      Texas|Central|  Training - Tableau|     1.0|        0.58|\n",
      "| 8001.0| 11/19/10|    15.0|        0.1|110.0|    1496.9|    Charles Sunley| California|   West|Development - Python|     1.0|        0.38|\n",
      "| 8001.0| 11/19/10|    47.0|       0.01|200.0|   9380.58|    Charles Sunley| California|   West|Development - Big...|     1.0|        0.74|\n",
      "|23366.0| 11/19/10|    12.0|       0.06|125.0|    1421.3|      Tim Swindell| California|   West|      Training - SQL|     1.0|        0.43|\n",
      "|23366.0| 11/19/10|     5.0|       0.04|200.0|    967.69|      Tim Swindell| California|   West|Development - Big...|     1.0|        0.67|\n",
      "|45190.0| 11/19/10|    13.0|        0.0|125.0|   1638.02|     George Barnes|      Texas|Central|Training - Develo...|     1.0|        0.58|\n",
      "| 8582.0| 11/20/10|    15.0|       0.04|125.0|   1814.47|     David Glassco| California|   West|      Training - SQL|     1.0|         0.5|\n",
      "|13895.0| 11/20/10|    44.0|       0.02|200.0|   8693.33|Michelle Collister|  Wisconsin|Central|Development - Big...|     1.0|        0.65|\n",
      "+-------+---------+--------+-----------+-----+----------+------------------+-----------+-------+--------------------+--------+------------+\n",
      "only showing top 20 rows\n",
      "\n"
     ]
    }
   ],
   "source": [
    "spark.sql(\"select * from sales\").show()"
   ]
  },
  {
   "cell_type": "code",
   "execution_count": 16,
   "id": "06b11a1b",
   "metadata": {},
   "outputs": [],
   "source": [
    "p = spark.sql(\"select ProductKey as Products, round(sum(SaleAmount)) as TotalSales from sales group by ProductKey order by 2 desc\")"
   ]
  },
  {
   "cell_type": "code",
   "execution_count": 37,
   "id": "61e2b3f5",
   "metadata": {},
   "outputs": [
    {
     "data": {
      "text/plain": [
       "<AxesSubplot:xlabel='Products'>"
      ]
     },
     "execution_count": 37,
     "metadata": {},
     "output_type": "execute_result"
    },
    {
     "data": {
      "image/png": "[encoded data removed]",
      "text/plain": [
       "<Figure size 432x288 with 1 Axes>"
      ]
     },
     "metadata": {
      "needs_background": "light"
     },
     "output_type": "display_data"
    }
   ],
   "source": [
    "p.toPandas().plot.bar(x = \"Products\")"
   ]
  },
  {
   "cell_type": "code",
   "execution_count": 38,
   "id": "903e7f51",
   "metadata": {},
   "outputs": [],
   "source": [
    "from pyspark.sql.functions import *"
   ]
  },
  {
   "cell_type": "code",
   "execution_count": 39,
   "id": "6444f39e",
   "metadata": {},
   "outputs": [],
   "source": [
    "streamInputDF = (\n",
    "    spark\n",
    "        .readStream\n",
    "        .schema(salesSchema)\n",
    "        .option(\"maxFilesPerTrigger\",1)\n",
    "        .csv(path)\n",
    ")"
   ]
  },
  {
   "cell_type": "code",
   "execution_count": 41,
   "id": "65c8cdaa",
   "metadata": {},
   "outputs": [],
   "source": [
    "streamingCountDF = (\n",
    "    streamInputDF\n",
    "        .select(\"ProductKey\", \"saleAmount\")\n",
    "        .groupBy(\"ProductKey\")\n",
    "        .sum()\n",
    ")"
   ]
  },
  {
   "cell_type": "code",
   "execution_count": 42,
   "id": "df55c7f5",
   "metadata": {},
   "outputs": [
    {
     "data": {
      "text/plain": [
       "True"
      ]
     },
     "execution_count": 42,
     "metadata": {},
     "output_type": "execute_result"
    }
   ],
   "source": [
    "streamingCountDF.isStreaming"
   ]
  },
  {
   "cell_type": "code",
   "execution_count": 45,
   "id": "ba4bbbba",
   "metadata": {},
   "outputs": [
    {
     "data": {
      "text/plain": [
       "pyspark.sql.dataframe.DataFrame"
      ]
     },
     "execution_count": 45,
     "metadata": {},
     "output_type": "execute_result"
    }
   ],
   "source": [
    "type(streamingCountDF)"
   ]
  },
  {
   "cell_type": "code",
   "execution_count": 46,
   "id": "682ff70d",
   "metadata": {},
   "outputs": [
    {
     "name": "stderr",
     "output_type": "stream",
     "text": [
      "22/06/10 15:04:13 WARN ResolveWriteToStream: Temporary checkpoint location created which is deleted normally when the query didn't fail: /tmp/temporary-ea940399-ed3c-4b28-bf8b-2f2286f8dd3e. If it's required to delete it under any circumstances, please set spark.sql.streaming.forceDeleteTempCheckpointLocation to true. Important to know deleting temp checkpoint folder is best effort.\n",
      "22/06/10 15:04:13 WARN ResolveWriteToStream: spark.sql.adaptive.enabled is not supported in streaming DataFrames/Datasets and will be disabled.\n",
      "[Stage 81:=====================>                                 (79 + 4) / 200]\r"
     ]
    }
   ],
   "source": [
    "query = (\n",
    "    streamingCountDF\n",
    "    .writeStream\n",
    "    .format(\"memory\")\n",
    "    .queryName(\"sales_stream\")\n",
    "    .outputMode(\"complete\")\n",
    "    .start()\n",
    ")"
   ]
  },
  {
   "cell_type": "code",
   "execution_count": 54,
   "id": "3b0f81ba",
   "metadata": {},
   "outputs": [
    {
     "data": {
      "text/plain": [
       "<AxesSubplot:>"
      ]
     },
     "execution_count": 54,
     "metadata": {},
     "output_type": "execute_result"
    },
    {
     "data": {
      "image/png": "[encoded data removed]",
      "text/plain": [
       "<Figure size 432x288 with 1 Axes>"
      ]
     },
     "metadata": {
      "needs_background": "light"
     },
     "output_type": "display_data"
    }
   ],
   "source": [
    "q = spark.sql(\"select * from sales_stream order by 2 desc\")\n",
    "q.toPandas().plot.bar()"
   ]
  },
  {
   "cell_type": "code",
   "execution_count": null,
   "id": "123d0ef4",
   "metadata": {},
   "outputs": [],
   "source": []
  }
 ],
 "metadata": {
  "kernelspec": {
   "display_name": "Python 3 (ipykernel)",
   "language": "python",
   "name": "python3"
  },
  "language_info": {
   "codemirror_mode": {
    "name": "ipython",
    "version": 3
   },
   "file_extension": ".py",
   "mimetype": "text/x-python",
   "name": "python",
   "nbconvert_exporter": "python",
   "pygments_lexer": "ipython3",
   "version": "3.8.10"
  }
 },
 "nbformat": 4,
 "nbformat_minor": 5
}
